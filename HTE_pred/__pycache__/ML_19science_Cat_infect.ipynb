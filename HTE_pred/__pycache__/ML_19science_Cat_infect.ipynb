{
 "cells": [
  {
   "cell_type": "code",
   "execution_count": 2,
   "metadata": {},
   "outputs": [
    {
     "ename": "ModuleNotFoundError",
     "evalue": "No module named 'ModelFits'",
     "output_type": "error",
     "traceback": [
      "\u001b[0;31m---------------------------------------------------------------------------\u001b[0m",
      "\u001b[0;31mModuleNotFoundError\u001b[0m                       Traceback (most recent call last)",
      "Cell \u001b[0;32mIn[2], line 7\u001b[0m\n\u001b[1;32m      4\u001b[0m \u001b[39mfrom\u001b[39;00m \u001b[39mmatplotlib\u001b[39;00m \u001b[39mimport\u001b[39;00m pyplot \u001b[39mas\u001b[39;00m plt\n\u001b[1;32m      5\u001b[0m \u001b[39mimport\u001b[39;00m \u001b[39mmatplotlib\u001b[39;00m\u001b[39m.\u001b[39;00m\u001b[39mpatches\u001b[39;00m \u001b[39mas\u001b[39;00m \u001b[39mmpatches\u001b[39;00m\n\u001b[0;32m----> 7\u001b[0m \u001b[39mfrom\u001b[39;00m \u001b[39mModelFits\u001b[39;00m \u001b[39mimport\u001b[39;00m fit_models\n\u001b[1;32m      9\u001b[0m \u001b[39m# Import relevant scikit-learn modules\u001b[39;00m\n\u001b[1;32m     10\u001b[0m \u001b[39m# Used ML methods: MLR, PLS, ANN, SVR, RF, ET, Bag\u001b[39;00m\n\u001b[1;32m     12\u001b[0m \u001b[39mfrom\u001b[39;00m \u001b[39msklearn\u001b[39;00m\u001b[39m.\u001b[39;00m\u001b[39mmodel_selection\u001b[39;00m \u001b[39mimport\u001b[39;00m train_test_split\n",
      "\u001b[0;31mModuleNotFoundError\u001b[0m: No module named 'ModelFits'"
     ]
    }
   ],
   "source": [
    "import os\n",
    "import numpy as np\n",
    "import pandas as pd\n",
    "from matplotlib import pyplot as plt\n",
    "import matplotlib.patches as mpatches\n",
    "\n",
    "from ModelFits import fit_models\n",
    "\n",
    "# Import relevant scikit-learn modules\n",
    "# Used ML methods: MLR, PLS, ANN, SVR, RF, ET, Bag\n",
    "\n",
    "from sklearn.model_selection import train_test_split\n",
    "from sklearn import preprocessing\n",
    "# from sklearn.preprocessing import StandardScaler\n",
    "from sklearn.metrics import mean_squared_error, r2_score\n",
    "\n",
    "\n",
    "from sklearn.cross_decomposition import PLSRegression # n_components=9\n",
    "from sklearn.linear_model import LinearRegression # Default\n",
    "# from sklearn.neighbors import KNeighborsRegressor\n",
    "from sklearn.neural_network import MLPRegressor #  n_estimators = 300\n",
    "from sklearn.svm import SVR #linearSVR 和SVR #  Default; C, epsilon and gamma optimised per solvent\n",
    "from sklearn.ensemble import RandomForestRegressor # n_trees = 500\n",
    "from sklearn.ensemble import ExtraTreesRegressor # n_trees = 500\n",
    "from sklearn.ensemble import BaggingRegressor # n_trees = 500"
   ]
  },
  {
   "cell_type": "code",
   "execution_count": null,
   "metadata": {},
   "outputs": [],
   "source": [
    "models = [LinearRegression(),\n",
    "          PLSRegression(n_components=9),\n",
    "          MLPRegressor(hidden_layer_sizes=300,max_iter=1000),\n",
    "          RandomForestRegressor(n_estimators=500),\n",
    "          SVR(),\n",
    "          ExtraTreesRegressor(n_estimators=500),\n",
    "          BaggingRegressor(n_estimators=500)\n",
    "          ]"
   ]
  }
 ],
 "metadata": {
  "kernelspec": {
   "display_name": "unimol-tool",
   "language": "python",
   "name": "python3"
  },
  "language_info": {
   "codemirror_mode": {
    "name": "ipython",
    "version": 3
   },
   "file_extension": ".py",
   "mimetype": "text/x-python",
   "name": "python",
   "nbconvert_exporter": "python",
   "pygments_lexer": "ipython3",
   "version": "3.9.16"
  },
  "orig_nbformat": 4
 },
 "nbformat": 4,
 "nbformat_minor": 2
}
