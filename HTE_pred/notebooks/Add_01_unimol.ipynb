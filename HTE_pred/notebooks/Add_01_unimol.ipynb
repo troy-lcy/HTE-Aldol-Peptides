{
 "cells": [
  {
   "cell_type": "code",
   "execution_count": 1,
   "metadata": {},
   "outputs": [],
   "source": [
    "import os\n",
    "import numpy as np\n",
    "import pandas as pd\n",
    "import lmdb\n",
    "from rdkit import Chem\n",
    "from rdkit.Chem import AllChem\n",
    "from tqdm import tqdm\n",
    "import pickle\n",
    "import glob"
   ]
  },
  {
   "cell_type": "code",
   "execution_count": 5,
   "metadata": {},
   "outputs": [],
   "source": [
    "def get_structure(mol,n_confs):\n",
    "  mol = Chem.AddHs(mol)\n",
    "  new_mol = Chem.Mol(mol)\n",
    "\n",
    "  AllChem.EmbedMultipleConfs(mol,numConfs=n_confs,useExpTorsionAnglePrefs=True,useBasicKnowledge=True, numThreads=0)\n",
    "  energies = AllChem.MMFFOptimizeMoleculeConfs(mol,maxIters=2000, nonBondedThresh=100.0, numThreads=0)\n",
    "\n",
    "  energies_list = [e[1] for e in energies]\n",
    "  min_e_index = energies_list.index(min(energies_list))\n",
    "\n",
    "  new_mol.AddConformer(mol.GetConformer(min_e_index))\n",
    "\n",
    "  return new_mol\n",
    "\n",
    "def smi2coords(smi, seed):\n",
    "    mol = Chem.MolFromSmiles(smi)\n",
    "    new_mol = get_structure(mol, 10) \n",
    "    # mol = AllChem.AddHs(mol)\n",
    "    atoms = [atom.GetSymbol() for atom in new_mol.GetAtoms()]\n",
    "    coordinate_list = []\n",
    "    # res = AllChem.EmbedMolecule(mol, randomSeed=seed)\n",
    "    coordinates = new_mol.GetConformer().GetPositions()\n",
    "\n",
    "    assert len(atoms) == len(coordinates), \"coordinates shape is not align with {}\".format(smi)\n",
    "    coordinate_list.append(coordinates.astype(np.float32))\n",
    "    return pickle.dumps({'atoms': atoms, 'coordinates': coordinate_list, 'smi': smi}, protocol=-1)\n",
    "\n",
    "def write_lmdb(smiles_list, job_name, seed=42, outpath='./results'):\n",
    "    os.makedirs(outpath, exist_ok=True)\n",
    "    output_name = os.path.join(outpath,'{}.lmdb'.format(job_name))\n",
    "    try:\n",
    "        os.remove(output_name)\n",
    "    except:\n",
    "        pass\n",
    "    env_new = lmdb.open(\n",
    "        output_name,\n",
    "        subdir=False,\n",
    "        readonly=False,\n",
    "        lock=False,\n",
    "        readahead=False,\n",
    "        meminit=False,\n",
    "        max_readers=1,\n",
    "        map_size=int(100e9),\n",
    "    )\n",
    "    txn_write = env_new.begin(write=True)\n",
    "    for i, smiles in tqdm(enumerate(smiles_list)):\n",
    "        inner_output = smi2coords(smiles, seed=seed)\n",
    "        txn_write.put(f\"{i}\".encode(\"ascii\"), inner_output)\n",
    "    txn_write.commit()\n",
    "    env_new.close()"
   ]
  },
  {
   "cell_type": "code",
   "execution_count": 3,
   "metadata": {},
   "outputs": [],
   "source": [
    "seed = 42\n",
    "job_name = '19_data'   # replace to your custom name\n",
    "data_path = './Uni_mol/19data'  # replace to your data path\n",
    "# data_path = '../HTE_pred/data/' # HTE datasets\n",
    "# weight_path='../ckp/mol_pre_no_h_220816.pt'  # replace to your ckpt path\n",
    "weight_path='../mol_pre_no_h_220816.pt'  # replace to your ckpt path\n",
    "only_polar=0  # no h\n",
    "dict_name='dict.txt'\n",
    "batch_size=16"
   ]
  },
  {
   "cell_type": "code",
   "execution_count": 7,
   "metadata": {},
   "outputs": [
    {
     "name": "stdout",
     "output_type": "stream",
     "text": [
      "43\n"
     ]
    },
    {
     "name": "stderr",
     "output_type": "stream",
     "text": [
      "26it [00:14,  1.70it/s][04:02:57] UFFTYPER: Unrecognized atom type: S_6+6 (10)\n",
      "[04:02:57] UFFTYPER: Unrecognized atom type: S_6+6 (34)\n",
      "43it [00:25,  1.68it/s]\n"
     ]
    },
    {
     "name": "stdout",
     "output_type": "stream",
     "text": [
      "5\n"
     ]
    },
    {
     "name": "stderr",
     "output_type": "stream",
     "text": [
      "5it [00:00, 22.79it/s]\n"
     ]
    },
    {
     "name": "stdout",
     "output_type": "stream",
     "text": [
      "5\n"
     ]
    },
    {
     "name": "stderr",
     "output_type": "stream",
     "text": [
      "5it [00:00, 49.28it/s]\n"
     ]
    }
   ],
   "source": [
    "df_19 = pd.read_csv('data/19_science/19_science_sorted.csv', )\n",
    "results_path=data_path   # replace to your save path\n",
    "\n",
    "smi_columns = ['Catalyst_smi', 'Imine_smi', 'Thiol_smi']\n",
    "for col in smi_columns:\n",
    "    job_name = '19_data'+col   # replace to your custom name\n",
    "    smi_list = df_19[col].unique()\n",
    "    print(len(smi_list))\n",
    "    # repr = clf.get_repr(smiles)\n",
    "    # df_repr = pd.DataFrame(repr)\n",
    "\n",
    "    # df_repr.to_csv(f'./data/{col}.csv',index=False)\n",
    "    \n",
    "    write_lmdb(smiles_list=smi_list, job_name=job_name, seed=seed, outpath=data_path)"
   ]
  },
  {
   "cell_type": "code",
   "execution_count": null,
   "metadata": {},
   "outputs": [],
   "source": []
  }
 ],
 "metadata": {
  "kernelspec": {
   "display_name": "unimol-tool",
   "language": "python",
   "name": "python3"
  },
  "language_info": {
   "codemirror_mode": {
    "name": "ipython",
    "version": 3
   },
   "file_extension": ".py",
   "mimetype": "text/x-python",
   "name": "python",
   "nbconvert_exporter": "python",
   "pygments_lexer": "ipython3",
   "version": "3.9.16"
  }
 },
 "nbformat": 4,
 "nbformat_minor": 2
}
