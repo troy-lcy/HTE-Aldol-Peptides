{
 "cells": [
  {
   "cell_type": "markdown",
   "metadata": {},
   "source": [
    "### This notebook will process experiment data\n",
    "1. Transfer sequence to smiles formation\n",
    "2. Compute feature vectors of peptide with unimol tools \n",
    "3. Compute solvent by one-hot coding or unimol features"
   ]
  },
  {
   "cell_type": "code",
   "execution_count": 1,
   "metadata": {},
   "outputs": [],
   "source": [
    "import os\n",
    "\n",
    "import pandas as pd\n",
    "import numpy  as np\n",
    "from rdkit import  Chem\n",
    "from rdkit.Chem import  AllChem\n",
    "import utils\n",
    "from tqdm import tqdm\n",
    "import time\n",
    "\n",
    "from unimol_tools import UniMolRepr"
   ]
  },
  {
   "cell_type": "code",
   "execution_count": 2,
   "metadata": {},
   "outputs": [
    {
     "name": "stdout",
     "output_type": "stream",
     "text": [
      "['../Data/data_140_ori.csv', '../Data/data_160_ori.csv', '../Data/data_180_ori.csv', '../Data/data_180_ori_1.csv', '../Data/data_180_ori_2.csv', '../Data/tetrapep-140.csv', '../Data/tetrapep-180.csv', '../Data/tetrapep-add.csv', '../Data/tetrapep-d-former.csv']\n"
     ]
    },
    {
     "data": {
      "text/plain": [
       "(  Peptide Solvent   Sol_smi    ee yields\n",
       " 0    GPLL    MeCN      CC#N  58.1    low\n",
       " 1    GPLL    MeOH        CO  64.2    low\n",
       " 2    GPLL   iPrOH    CC(C)O  37.2    low\n",
       " 3    GPLL     DCM   C(Cl)Cl  39.7    low\n",
       " 4    GPLL     DCE  C(CCl)Cl  62.7    low,\n",
       " (180, 5))"
      ]
     },
     "execution_count": 2,
     "metadata": {},
     "output_type": "execute_result"
    }
   ],
   "source": [
    "# read .csv format data\n",
    "DATA_DIR = '../Data'\n",
    "data_path= []\n",
    "for file in os.listdir(DATA_DIR):\n",
    "    if '.csv' in file:\n",
    "        path = DATA_DIR+ '/' + file\n",
    "        data_path.append(path)\n",
    "\n",
    "print(data_path)\n",
    "df = pd.read_csv(data_path[-3])\n",
    "df.head(), df.shape"
   ]
  },
  {
   "cell_type": "code",
   "execution_count": 3,
   "metadata": {},
   "outputs": [
    {
     "data": {
      "text/html": [
       "<div>\n",
       "<style scoped>\n",
       "    .dataframe tbody tr th:only-of-type {\n",
       "        vertical-align: middle;\n",
       "    }\n",
       "\n",
       "    .dataframe tbody tr th {\n",
       "        vertical-align: top;\n",
       "    }\n",
       "\n",
       "    .dataframe thead th {\n",
       "        text-align: right;\n",
       "    }\n",
       "</style>\n",
       "<table border=\"1\" class=\"dataframe\">\n",
       "  <thead>\n",
       "    <tr style=\"text-align: right;\">\n",
       "      <th></th>\n",
       "      <th>Peptide</th>\n",
       "      <th>pep_smiles</th>\n",
       "      <th>Solvent</th>\n",
       "      <th>Sol_smi</th>\n",
       "      <th>ee</th>\n",
       "      <th>yields</th>\n",
       "    </tr>\n",
       "  </thead>\n",
       "  <tbody>\n",
       "    <tr>\n",
       "      <th>0</th>\n",
       "      <td>GPLL</td>\n",
       "      <td>CC(C)C[C@H](NC(=O)[C@H](CC(C)C)NC(=O)[C@@H]1CC...</td>\n",
       "      <td>MeCN</td>\n",
       "      <td>CC#N</td>\n",
       "      <td>58.1</td>\n",
       "      <td>low</td>\n",
       "    </tr>\n",
       "    <tr>\n",
       "      <th>1</th>\n",
       "      <td>GPLL</td>\n",
       "      <td>CC(C)C[C@H](NC(=O)[C@H](CC(C)C)NC(=O)[C@@H]1CC...</td>\n",
       "      <td>MeOH</td>\n",
       "      <td>CO</td>\n",
       "      <td>64.2</td>\n",
       "      <td>low</td>\n",
       "    </tr>\n",
       "    <tr>\n",
       "      <th>2</th>\n",
       "      <td>GPLL</td>\n",
       "      <td>CC(C)C[C@H](NC(=O)[C@H](CC(C)C)NC(=O)[C@@H]1CC...</td>\n",
       "      <td>iPrOH</td>\n",
       "      <td>CC(C)O</td>\n",
       "      <td>37.2</td>\n",
       "      <td>low</td>\n",
       "    </tr>\n",
       "    <tr>\n",
       "      <th>3</th>\n",
       "      <td>GPLL</td>\n",
       "      <td>CC(C)C[C@H](NC(=O)[C@H](CC(C)C)NC(=O)[C@@H]1CC...</td>\n",
       "      <td>DCM</td>\n",
       "      <td>C(Cl)Cl</td>\n",
       "      <td>39.7</td>\n",
       "      <td>low</td>\n",
       "    </tr>\n",
       "    <tr>\n",
       "      <th>4</th>\n",
       "      <td>GPLL</td>\n",
       "      <td>CC(C)C[C@H](NC(=O)[C@H](CC(C)C)NC(=O)[C@@H]1CC...</td>\n",
       "      <td>DCE</td>\n",
       "      <td>C(CCl)Cl</td>\n",
       "      <td>62.7</td>\n",
       "      <td>low</td>\n",
       "    </tr>\n",
       "  </tbody>\n",
       "</table>\n",
       "</div>"
      ],
      "text/plain": [
       "  Peptide                                         pep_smiles Solvent  \\\n",
       "0    GPLL  CC(C)C[C@H](NC(=O)[C@H](CC(C)C)NC(=O)[C@@H]1CC...    MeCN   \n",
       "1    GPLL  CC(C)C[C@H](NC(=O)[C@H](CC(C)C)NC(=O)[C@@H]1CC...    MeOH   \n",
       "2    GPLL  CC(C)C[C@H](NC(=O)[C@H](CC(C)C)NC(=O)[C@@H]1CC...   iPrOH   \n",
       "3    GPLL  CC(C)C[C@H](NC(=O)[C@H](CC(C)C)NC(=O)[C@@H]1CC...     DCM   \n",
       "4    GPLL  CC(C)C[C@H](NC(=O)[C@H](CC(C)C)NC(=O)[C@@H]1CC...     DCE   \n",
       "\n",
       "    Sol_smi    ee yields  \n",
       "0      CC#N  58.1    low  \n",
       "1        CO  64.2    low  \n",
       "2    CC(C)O  37.2    low  \n",
       "3   C(Cl)Cl  39.7    low  \n",
       "4  C(CCl)Cl  62.7    low  "
      ]
     },
     "execution_count": 3,
     "metadata": {},
     "output_type": "execute_result"
    }
   ],
   "source": [
    "# Insert SMILES column to dataframem, if dataframe has no smiles column\n",
    "df.insert(1, column='pep_smiles', value='')\n",
    "for i in df.index.tolist():\n",
    "    df.iloc[i,1] = utils.pep_seq_transform(df.iloc[i,0])\n",
    "\n",
    "df.head()"
   ]
  },
  {
   "cell_type": "code",
   "execution_count": 5,
   "metadata": {},
   "outputs": [
    {
     "name": "stderr",
     "output_type": "stream",
     "text": [
      "2024-04-25 10:06:27 | unimol_tools/models/unimol.py | 146 | INFO | Uni-Mol(QSAR) | Loading pretrained weights from /home/troy/miniconda3/envs/unimol-tool/lib/python3.9/site-packages/unimol_tools-1.0.0-py3.9.egg/unimol_tools/weights/mol_pre_all_h_220816.pt\n",
      "2024-04-25 10:06:27 | unimol_tools/data/conformer.py | 90 | INFO | Uni-Mol(QSAR) | Start generating conformers...\n",
      "180it [00:01, 103.77it/s]\n",
      "2024-04-25 10:06:29 | unimol_tools/data/conformer.py | 94 | INFO | Uni-Mol(QSAR) | Failed to generate conformers for 0.00% of molecules.\n",
      "2024-04-25 10:06:29 | unimol_tools/data/conformer.py | 96 | INFO | Uni-Mol(QSAR) | Failed to generate 3d conformers for 0.00% of molecules.\n",
      "100%|██████████| 6/6 [00:04<00:00,  1.36it/s]"
     ]
    },
    {
     "name": "stdout",
     "output_type": "stream",
     "text": [
      "(180, 512)\n"
     ]
    },
    {
     "name": "stderr",
     "output_type": "stream",
     "text": [
      "\n"
     ]
    }
   ],
   "source": [
    "# concate calculated unimol representations of peptides\n",
    "# df = pd.read_csv('../Data/data_140_ori.csv',index_col=0)\n",
    "# fea_lib = pd.read_csv('../Unimol_model/cluster/results_VPGLA/VPGLA_feature.csv', header=None)\n",
    "\n",
    "# df_fea = pd.DataFrame(index=range(140),columns=range(512))\n",
    "\n",
    "# for i in range(len(df['lib_index'])):\n",
    "#     df_fea.loc[i] = fea_lib.loc[df['lib_index'][i]]\n",
    "\n",
    "# df_fea.to_csv('../Data/UniMolRepr.csv')\n",
    "\n",
    "# Optional: A convenient way to generate UniMol Representations of peptides\n",
    "clf = UniMolRepr(data_type='molecule')\n",
    "smi_list = df['pep_smiles'].values.tolist()\n",
    "unimol_repr = clf.get_repr(smi_list, return_atomic_reprs=False)\n",
    "# CLS token repr\n",
    "print(np.array(unimol_repr['cls_repr']).shape)\n",
    "\n",
    "df_repr = pd.DataFrame(np.array(unimol_repr['cls_repr'])).to_csv('../Reprs/UniMolRepr_180.csv', )"
   ]
  },
  {
   "cell_type": "code",
   "execution_count": 6,
   "metadata": {},
   "outputs": [],
   "source": [
    "# Generate Representations of solvent\n",
    "\n",
    "# one-hot coding\n",
    "sol_df = df['Solvent']\n",
    "sol_oh = pd.get_dummies(sol_df, dtype=int)\n",
    "sol_oh.to_csv('../Reprs/sol_oh_180.csv')"
   ]
  },
  {
   "cell_type": "code",
   "execution_count": 7,
   "metadata": {},
   "outputs": [
    {
     "name": "stderr",
     "output_type": "stream",
     "text": [
      "2024-04-25 10:06:34 | unimol_tools/models/unimol.py | 146 | INFO | Uni-Mol(QSAR) | Loading pretrained weights from /home/troy/miniconda3/envs/unimol-tool/lib/python3.9/site-packages/unimol_tools-1.0.0-py3.9.egg/unimol_tools/weights/mol_pre_all_h_220816.pt\n",
      "2024-04-25 10:06:34 | unimol_tools/data/conformer.py | 90 | INFO | Uni-Mol(QSAR) | Start generating conformers...\n",
      "180it [00:00, 2710.55it/s]\n",
      "2024-04-25 10:06:34 | unimol_tools/data/conformer.py | 94 | INFO | Uni-Mol(QSAR) | Failed to generate conformers for 0.00% of molecules.\n",
      "2024-04-25 10:06:34 | unimol_tools/data/conformer.py | 96 | INFO | Uni-Mol(QSAR) | Failed to generate 3d conformers for 0.00% of molecules.\n",
      "100%|██████████| 6/6 [00:00<00:00,  9.93it/s]\n"
     ]
    }
   ],
   "source": [
    "# unimol-repr\n",
    "sol_smi = df['Sol_smi'].values.tolist()\n",
    "clf = UniMolRepr(data_type='molecule')\n",
    "unimol_repr = clf.get_repr(sol_smi, return_atomic_reprs=False)\n",
    "df_repr = pd.DataFrame(np.array(unimol_repr['cls_repr'])).to_csv('../Reprs/Solvent_Repr_180.csv')"
   ]
  },
  {
   "cell_type": "code",
   "execution_count": null,
   "metadata": {},
   "outputs": [],
   "source": []
  }
 ],
 "metadata": {
  "kernelspec": {
   "display_name": "unimol_tools",
   "language": "python",
   "name": "python3"
  },
  "language_info": {
   "codemirror_mode": {
    "name": "ipython",
    "version": 3
   },
   "file_extension": ".py",
   "mimetype": "text/x-python",
   "name": "python",
   "nbconvert_exporter": "python",
   "pygments_lexer": "ipython3",
   "version": "3.9.16"
  }
 },
 "nbformat": 4,
 "nbformat_minor": 2
}
